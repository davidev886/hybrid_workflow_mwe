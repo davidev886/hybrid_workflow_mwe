{
 "cells": [
  {
   "cell_type": "code",
   "execution_count": 1,
   "metadata": {},
   "outputs": [],
   "source": [
    "# !pip install pyscf==2.6.0\n",
    "# !pip install openfermion==1.6.1\n",
    "# !echo cuda-quantum | sudo -S apt-get install -y cuda-toolkit-11.8 && python -m pip install cupy==13.1.0\n",
    "# !pip install git+https://github.com/yfhuang93/ipie/tree/msd_gpu\n",
    "# !pip install ipie==0.7.0\n"
   ]
  },
  {
   "cell_type": "markdown",
   "metadata": {},
   "source": [
    "# Hybrid workflow for molecular simulations\n",
    "\n",
    "In this tutorial we implement a quantum-classical hybrid workflow for computing the ground state energies of a stronlgy interacting molecular system. The algorithm is made of two parts\n",
    "1. a variational quantum eigensolver that uses a quantum-number-preserving ansatz proposed by [Anselmetti et al. (2021)](https://doi.org/10.1088/1367-2630/ac2cb3) to produce a quantum trial wave function $|\\Psi_T\\rangle$. This is implemented via cudaq.\n",
    "2. an auxiliary-field quantum Monte Carlo that realizes a classical imaginary time evolution and collects the ground state energy estimates"
   ]
  },
  {
   "cell_type": "markdown",
   "metadata": {},
   "source": [
    "## Variational Quantum Eigensolver (VQE)"
   ]
  },
  {
   "cell_type": "code",
   "execution_count": null,
   "metadata": {},
   "outputs": [],
   "source": [
    "import numpy as np\n",
    "import matplotlib.pyplot as plt\n",
    "\n",
    "from pyscf import gto, scf, ao2mo, mcscf\n",
    "\n",
    "from openfermion import jordan_wigner\n",
    "from openfermion import generate_hamiltonian\n",
    "\n",
    "from src.vqe_cudaq_qnp import VqeQnp\n",
    "from src.vqe_cudaq_qnp import get_cudaq_hamiltonian\n",
    "from src.utils_ipie import get_coeff_wf, gen_ipie_input_from_pyscf_chk"
   ]
  },
  {
   "cell_type": "markdown",
   "metadata": {},
   "source": [
    "We start by define the structure, the basis set, and the spin of the molecule. We build the molecule object with PySCF and run a preliminary Hartree-Fock computation."
   ]
  },
  {
   "cell_type": "code",
   "execution_count": null,
   "metadata": {},
   "outputs": [],
   "source": [
    "# Define the molecular structure and the basis set for the molecule\n",
    "atom = \"systems/O3_spin_0/geo.xyz\"\n",
    "basis = \"cc-pVQZ\"\n",
    "spin = 0"
   ]
  },
  {
   "cell_type": "code",
   "execution_count": null,
   "metadata": {},
   "outputs": [],
   "source": [
    "# PYSCF \n",
    "# Define the molecule \n",
    "molecule = gto.M(\n",
    "    atom=atom,\n",
    "    spin=spin,\n",
    "    basis=basis,\n",
    "    verbose=0\n",
    ")\n",
    "\n",
    "mol_nelec = molecule.nelec\n",
    "hartee_fock = scf.ROHF(molecule)\n",
    "hartee_fock.chkfile = \"scf.chk\"\n",
    "# Run Hartee-Fock\n",
    "hartee_fock.kernel()"
   ]
  },
  {
   "cell_type": "markdown",
   "metadata": {},
   "source": [
    "### Hamiltonian preparation for VQE\n",
    "\n",
    "Since this molecule contains $\\sim XXXX$ orbitals and $\\sim XXXX$ total electrons, it is impossible to perform a full VQE in the current generation of simulators. Therefore we need to identify an active space with fewer orbitals and electrons that contribute to the the stronlgy interacting part of the whole molecule. We then run a post-HF computation with the PySCF's built-in CASCI method in order to obtain the one-body ($t_{pq}$) and two-body ($V_{prqs}$) integrals that define the molecular Hamiltonian\n",
    "\n",
    "$$ H= \\sum_{pq}t_{pq}\\hat{a}_{p}^\\dagger \\hat {a}_{q}+\\sum_{pqrs}  V_{prqs}\\hat a_{p}^\\dagger \\hat a_{q}^\\dagger \\hat a_{s}\\hat a_{r}$$"
   ]
  },
  {
   "cell_type": "code",
   "execution_count": null,
   "metadata": {},
   "outputs": [],
   "source": [
    "# Define the active space \n",
    "num_active_orbitals = 6\n",
    "num_active_electrons = 8\n",
    "\n",
    "# Run a casci simulation for computing the Hamiltonian in the active space\n",
    "my_casci = mcscf.CASCI(hartee_fock, num_active_orbitals, num_active_electrons)\n",
    "ss = (molecule.spin / 2 * (molecule.spin / 2 + 1))\n",
    "my_casci.fix_spin_(ss=ss)\n",
    "\n",
    "e_tot, e_cas, fcivec, mo_output, mo_energy = my_casci.kernel()\n",
    "\n",
    "# Compute the one-body (h1) and two-body integrals (tbi)\n",
    "h1, energy_core = my_casci.get_h1eff()\n",
    "h2 = my_casci.get_h2eff()\n",
    "h2_no_symmetry = ao2mo.restore('1', h2, num_active_orbitals)\n",
    "tbi = np.asarray(h2_no_symmetry.transpose(0, 2, 3, 1), order='C')\n",
    "\n",
    "# Compute the Hamiltonian and convert it to a CUDA-Q operator\n",
    "mol_ham = generate_hamiltonian(h1, tbi, energy_core.item())\n",
    "jw_hamiltonian = jordan_wigner(mol_ham)\n",
    "hamiltonian_cudaq, energy_core = get_cudaq_hamiltonian(jw_hamiltonian)"
   ]
  },
  {
   "cell_type": "markdown",
   "metadata": {},
   "source": [
    "### Run VQE with CUDA-Q"
   ]
  },
  {
   "cell_type": "markdown",
   "metadata": {},
   "source": [
    "We can now run the quantum-number-preserving VQE using CUDA-Q. We can choose some options (the number of layers, the maximum number of optimization steps) for the VQE. At the end of the VQE, we store the final state vector that will be used in the classical AFQMC computation."
   ]
  },
  {
   "cell_type": "code",
   "execution_count": null,
   "metadata": {},
   "outputs": [],
   "source": [
    "# Define some options for the VQE\n",
    "options = {'n_vqe_layers': 1,\n",
    "           'maxiter': 100,\n",
    "           'energy_core': energy_core,\n",
    "           'return_final_state_vec': True}\n",
    "\n",
    "n_qubits = 2 * num_active_orbitals\n",
    "vqe = VqeQnp(n_qubits=n_qubits,\n",
    "             num_active_electrons=num_active_electrons,\n",
    "             spin=spin,\n",
    "             options=options)\n",
    "\n",
    "results = vqe.run_vqe_cudaq(hamiltonian_cudaq)\n",
    "\n",
    "# Best energy from VQE\n",
    "energy_optimized = results['energy_optimized']\n",
    "\n",
    "# Final state vector\n",
    "final_state_vector = results[\"state_vec\"]\n",
    "\n",
    "# List with the energies for all the optimization iterations\n",
    "energies_vqe = results[\"callback_energies\"]"
   ]
  },
  {
   "cell_type": "code",
   "execution_count": null,
   "metadata": {},
   "outputs": [],
   "source": [
    "plt.xlabel(\"VQE optimization steps\")\n",
    "plt.ylabel(\"Energy [Ha]\")\n",
    "plt.plot(energies_vqe, label=\"VQE\")\n",
    "plt.legend()"
   ]
  },
  {
   "cell_type": "markdown",
   "metadata": {},
   "source": [
    "### Auxiliary field quantum Monte Carlo (AFQMC)"
   ]
  },
  {
   "cell_type": "markdown",
   "metadata": {},
   "source": [
    "AFQMC is a numerical method for computing relevant properties of strongly interacting molecules. AFQMC is a type of quantum Monte Carlo method that combines the use of random walks with an auxiliary field to simulate the imaginary-time evolution of a quantum system and drive it to the lowest energy state. This method can provide accurate results for ground-state properties of a wide range of physical systems, including atoms, molecules, and solids. One can find a detailed introduction to AFQMC [here](https://www.cond-mat.de/events/correl13/manuscripts/zhang.pdf)."
   ]
  },
  {
   "cell_type": "markdown",
   "metadata": {},
   "source": [
    "The implementation for AFQMC we use here is the one given by `ipie` that supports both CPUs and GPUs."
   ]
  },
  {
   "cell_type": "code",
   "execution_count": null,
   "metadata": {},
   "outputs": [],
   "source": [
    "from ipie.config import config\n",
    "config.update_option(\"use_gpu\", False)\n",
    "from ipie.hamiltonians.generic import Generic as HamGeneric\n",
    "from ipie.qmc.afqmc import AFQMC\n",
    "from ipie.systems.generic import Generic\n",
    "from ipie.trial_wavefunction.particle_hole import ParticleHole\n",
    "from ipie.analysis.extraction import extract_observable"
   ]
  },
  {
   "cell_type": "code",
   "execution_count": null,
   "metadata": {},
   "outputs": [],
   "source": [
    "#AFQMC\n",
    "\n",
    "# Generate the input Hamiltonian for ipie from the chk file from pyscf\n",
    "ipie_ham  = gen_ipie_input_from_pyscf_chk(\"scf.chk\",\n",
    "                                          mcscf=True,\n",
    "                                          chol_cut=1e-5)\n",
    "\n",
    "h1e, cholesky_vectors, e0  = ipie_ham \n",
    "\n",
    "num_basis = cholesky_vectors.shape[1]\n",
    "num_chol = cholesky_vectors.shape[0]\n",
    "\n",
    "system = Generic(nelec=mol_nelec)\n",
    "\n",
    "ham = HamGeneric(\n",
    "    np.array([h1e, h1e]),\n",
    "    cholesky_vectors.transpose((1, 2, 0)).reshape((num_basis * num_basis, num_chol)),\n",
    "    e0,\n",
    ")\n",
    "####################\n",
    "\n",
    "# Build the trial wavefunction from the state vector computed via VQE\n",
    "wavefunction = get_coeff_wf(final_state_vector,\n",
    "                            n_active_elec=num_active_electrons,\n",
    "                            spin=spin\n",
    "                           )\n",
    "\n",
    "trial = ParticleHole(\n",
    "    wavefunction,\n",
    "    mol_nelec,\n",
    "    num_basis,\n",
    "    num_dets_for_props=len(wavefunction[0]),\n",
    "    verbose=False)  #set to true if needed\n",
    "\n",
    "trial.compute_trial_energy = True\n",
    "trial.build()\n",
    "trial.half_rotate(ham)\n",
    "####################"
   ]
  },
  {
   "cell_type": "code",
   "execution_count": null,
   "metadata": {},
   "outputs": [],
   "source": [
    "# Set the AFQMC parameters (num_walkers, num_blocks,...) here \n",
    "afqmc_msd = AFQMC.build(\n",
    "    mol_nelec,\n",
    "    ham,\n",
    "    trial,\n",
    "    num_walkers=100,\n",
    "    num_steps_per_block=25,\n",
    "    num_blocks=10,\n",
    "    timestep=0.005,\n",
    "    stabilize_freq=5,\n",
    "    seed=96264512,\n",
    "    pop_control_freq=5,\n",
    "    verbose=False,\n",
    ")\n",
    "\n",
    "# Run the AFQMC\n",
    "afqmc_msd.run()\n",
    "afqmc_msd.finalise(verbose=False)"
   ]
  },
  {
   "cell_type": "code",
   "execution_count": null,
   "metadata": {},
   "outputs": [],
   "source": [
    "qmc_data = extract_observable(afqmc_msd.estimators.filename, \"energy\")\n",
    "plt.xlabel(\"AFQMC steps\")\n",
    "plt.ylabel(\"Energy [Ha]\")\n",
    "plt.plot(qmc_data[\"ETotal\"], label=\"AFQMC\")\n",
    "plt.legend()"
   ]
  },
  {
   "cell_type": "code",
   "execution_count": null,
   "metadata": {},
   "outputs": [],
   "source": [
    "x = energies_vqe + list(qmc_data[\"ETotal\"])\n",
    "y = list(range(len(x)))\n",
    "\n",
    "plt.xlabel(\"Optimization steps\")\n",
    "plt.ylabel(\"Energy [Ha]\")\n",
    "plt.plot(y, x, label=\"VQE + AFQMC\")\n",
    "plt.legend()"
   ]
  }
 ],
 "metadata": {
  "kernelspec": {
   "display_name": "Python 3 (ipykernel)",
   "language": "python",
   "name": "python3"
  },
  "language_info": {
   "codemirror_mode": {
    "name": "ipython",
    "version": 3
   },
   "file_extension": ".py",
   "mimetype": "text/x-python",
   "name": "python",
   "nbconvert_exporter": "python",
   "pygments_lexer": "ipython3",
   "version": "3.10.0"
  },
  "vscode": {
   "interpreter": {
    "hash": "31f2aee4e71d21fbe5cf8b01ff0e069b9275f58929596ceb00d14d90e3e16cd6"
   }
  }
 },
 "nbformat": 4,
 "nbformat_minor": 4
}
