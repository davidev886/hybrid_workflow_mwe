{
 "cells": [
  {
   "cell_type": "markdown",
   "metadata": {},
   "source": [
    "# Hybrid workflow for molecular simulations\n",
    "\n",
    "In this tutorial we implement a quantum-classical hybrid workflow for computing the ground state energies of a stronlgy interacting molecular system. The algorithm is made of two parts\n",
    "1. a variational quantum eigensolver that uses a quantum-number-preserving ansatz proposed by [Anselmetti et al. (2021)](https://doi.org/10.1088/1367-2630/ac2cb3) to produce a quantum trial wave function $|\\Psi_T\\rangle$. This is implemented via cudaq.\n",
    "2. an auxiliary-field quantum Monte Carlo that realizes a classical imaginary time evolution and collects the ground state energy estimates"
   ]
  },
  {
   "cell_type": "markdown",
   "metadata": {},
   "source": [
    "## Variational Quantum Eigensolver (VQE)"
   ]
  },
  {
   "cell_type": "code",
   "execution_count": 51,
   "metadata": {},
   "outputs": [],
   "source": [
    "# import numpy as np\n",
    "# import matplotlib.pyplot as plt\n",
    "\n",
    "# from pyscf import gto, scf, ao2mo, mcscf\n",
    "\n",
    "# from openfermion import jordan_wigner\n",
    "# from openfermion import generate_hamiltonian\n",
    "\n",
    "# #Package installs and relevant imports\n",
    "\n",
    "# # !pip install pyscf==2.6.0\n",
    "# # !pip install openfermion==1.6.1\n",
    "# # !echo cuda-quantum | sudo -S apt-get install -y cuda-toolkit-11.8 && python -m pip install cupy==13.1.0\n",
    "# # !pip install git+https://github.com/yfhuang93/ipie/tree/msd_gpu\n",
    "# # !pip install ipie==0.7.0\n",
    "\n",
    "\n",
    "# import numpy as np\n",
    "# import matplotlib.pyplot as plt\n",
    "\n",
    "# from pyscf import gto, scf, ao2mo, mcscf\n",
    "\n",
    "# from openfermion import jordan_wigner\n",
    "# from openfermion import generate_hamiltonian\n",
    "\n",
    "# from src.vqe_cudaq_qnp import VQE\n",
    "# from src.vqe_cudaq_qnp import get_cudaq_hamiltonian\n",
    "# from src.utils_ipie import get_coeff_wf, gen_ipie_input_from_pyscf_chk\n",
    "\n",
    "# from ipie.config import config\n",
    "# config.update_option(\"use_gpu\", True)\n",
    "# from ipie.hamiltonians.generic import Generic as HamGeneric\n",
    "# from ipie.qmc.afqmc import AFQMC\n",
    "# from ipie.systems.generic import Generic\n",
    "# from ipie.trial_wavefunction.particle_hole import ParticleHole\n",
    "# from ipie.analysis.extraction import extract_observable\n",
    "\n",
    "#Package installs and relevant imports\n",
    "\n",
    "# !pip install pyscf==2.6.0\n",
    "# !pip install openfermion==1.6.1\n",
    "# !echo cuda-quantum | sudo -S apt-get install -y cuda-toolkit-11.8 && python -m pip install cupy==13.1.0\n",
    "# !pip install git+https://github.com/yfhuang93/ipie/tree/msd_gpu\n",
    "# !pip install ipie==0.7.0\n",
    "\n",
    "\n",
    "import numpy as np\n",
    "import matplotlib.pyplot as plt\n",
    "\n",
    "from pyscf import gto, scf, ao2mo, mcscf\n",
    "\n",
    "from openfermion import jordan_wigner\n",
    "from openfermion import generate_hamiltonian\n",
    "\n",
    "from src.vqe_cudaq_qnp import VQE\n",
    "from src.vqe_cudaq_qnp import get_cudaq_hamiltonian\n",
    "from src.utils_ipie import get_coeff_wf, gen_ipie_input_from_pyscf_chk\n",
    "\n",
    "from ipie.config import config\n",
    "config.update_option(\"use_gpu\", True)\n",
    "from ipie.hamiltonians.generic import Generic as HamGeneric\n",
    "from ipie.qmc.afqmc import AFQMC\n",
    "from ipie.systems.generic import Generic\n",
    "from ipie.trial_wavefunction.particle_hole import ParticleHole\n",
    "from ipie.analysis.extraction import extract_observable"
   ]
  },
  {
   "cell_type": "markdown",
   "metadata": {},
   "source": [
    "We start by define the structure, the basis set, and the spin of the molecule. We build the molecule object with PySCF and run a preliminary Hartree-Fock computation. Here we choose as an example a [chelating agent](https://doi.org/10.1021/acs.jctc.3c01375) representing a relevant class of substances industrially produced at large scale. Their use ranges, among the others, from water softeners in cleaning applications, modulators of redox behavior in oxidative bleaching, scale suppressants, soil remediation and ligands for catalysts. In particular we focus here in a Fe(III)-NTA complex whose structure is given in the `geo.xyz` file."
   ]
  },
  {
   "cell_type": "code",
   "execution_count": 52,
   "metadata": {},
   "outputs": [],
   "source": [
    "# Define the molecular structure and the basis set for the molecule\n",
    "atom = \"systems/geo_o3.xyz\"\n",
    "basis = \"cc-pVTZ\"\n",
    "spin = 0\n",
    "num_active_orbitals = 9\n",
    "num_active_electrons = 12"
   ]
  },
  {
   "cell_type": "code",
   "execution_count": 53,
   "metadata": {},
   "outputs": [
    {
     "data": {
      "text/plain": [
       "-224.34048064812222"
      ]
     },
     "execution_count": 53,
     "metadata": {},
     "output_type": "execute_result"
    }
   ],
   "source": [
    "# PYSCF \n",
    "# Define the molecule \n",
    "molecule = gto.M(\n",
    "    atom=atom,\n",
    "    spin=spin,\n",
    "    basis=basis,\n",
    "    verbose=0\n",
    ")\n",
    "\n",
    "mol_nelec = molecule.nelec\n",
    "hartee_fock = scf.ROHF(molecule)\n",
    "hartee_fock.chkfile = \"scf.chk\"\n",
    "\n",
    "# Run Hartee-Fock\n",
    "hartee_fock.kernel()"
   ]
  },
  {
   "cell_type": "markdown",
   "metadata": {},
   "source": [
    "### Hamiltonian preparation for VQE\n",
    "\n",
    "Since this molecule contains around 600 orbitals (which would correspond to 1200 qubits) and 143 total electrons, it is impossible to perform a full VQE in the current generation of simulators. Therefore we need to identify an active space with fewer orbitals and electrons that contribute to the the stronlgy interacting part of the whole molecule. We then run a post-HF computation with the PySCF's built-in CASCI method in order to obtain the one-body ($t_{pq}$) and two-body ($V_{prqs}$) integrals that define the molecular Hamiltonian in the active space\n",
    "\n",
    "$$ H= \\sum_{pq}t_{pq}\\hat{a}_{p}^\\dagger \\hat {a}_{q}+\\sum_{pqrs}  V_{prqs}\\hat a_{p}^\\dagger \\hat a_{q}^\\dagger \\hat a_{s}\\hat a_{r}$$"
   ]
  },
  {
   "cell_type": "markdown",
   "metadata": {},
   "source": [
    "Here we choose an active space made by 5 orbitals and we populate them with 5 electrons."
   ]
  },
  {
   "cell_type": "code",
   "execution_count": 54,
   "metadata": {},
   "outputs": [],
   "source": [
    "# Run a casci simulation for computing the Hamiltonian in the active space\n",
    "casci = mcscf.CASCI(hartee_fock, num_active_orbitals, num_active_electrons)\n",
    "# ss = (molecule.spin / 2 * (molecule.spin / 2 + 1))\n",
    "casci.fix_spin_(ss= (molecule.spin / 2 * (molecule.spin / 2 + 1)))\n",
    "\n",
    "e_tot, e_cas, fcivec, mo_output, mo_energy = casci.kernel()\n",
    "\n",
    "# Compute the one-body (h1) and two-body integrals (tbi)\n",
    "h1, energy_core = casci.get_h1eff()\n",
    "h2 = casci.get_h2eff()\n",
    "h2_no_symmetry = ao2mo.restore('1', h2, num_active_orbitals)\n",
    "tbi = np.asarray(h2_no_symmetry.transpose(0, 2, 3, 1), order='C')\n",
    "\n",
    "# Compute the Hamiltonian and convert it to a CUDA-Q operator\n",
    "mol_ham = generate_hamiltonian(h1, tbi, energy_core.item())\n",
    "jw_hamiltonian = jordan_wigner(mol_ham)\n",
    "hamiltonian_cudaq, energy_core = get_cudaq_hamiltonian(jw_hamiltonian)"
   ]
  },
  {
   "cell_type": "markdown",
   "metadata": {},
   "source": [
    "### Run VQE with CUDA-Q"
   ]
  },
  {
   "cell_type": "markdown",
   "metadata": {},
   "source": [
    "We can now run the quantum-number-preserving VQE using CUDA-Q. We can choose some options (the number of layers, the maximum number of optimization steps) for the VQE. At the end of the VQE, we store the final state vector that will be used in the classical AFQMC computation."
   ]
  },
  {
   "cell_type": "code",
   "execution_count": 55,
   "metadata": {},
   "outputs": [
    {
     "name": "stdout",
     "output_type": "stream",
     "text": [
      "# Using cudaq optimizer\n",
      "# Num Params: 16\n",
      "# Qubits: 18\n",
      "# N_layers: 1\n",
      "# Energy after the VQE: -224.3945354384087\n"
     ]
    }
   ],
   "source": [
    "# Define some options for the VQE\n",
    "options = {'n_vqe_layers': 1,\n",
    "           'maxiter': 100,\n",
    "           'energy_core': energy_core,\n",
    "           'return_final_state_vec': True}\n",
    "\n",
    "n_qubits = 2 * num_active_orbitals\n",
    "\n",
    "vqe = VQE(n_qubits=n_qubits,\n",
    "             num_active_electrons=num_active_electrons,\n",
    "             spin=spin,\n",
    "             options=options)\n",
    "\n",
    "results = vqe.execute(hamiltonian_cudaq)\n",
    "\n",
    "# Best energy from VQE\n",
    "energy_optimized = results['energy_optimized']\n",
    "\n",
    "# Final state vector\n",
    "final_state_vector = results[\"state_vec\"]\n",
    "\n",
    "# List with the energies for all the optimization iterations\n",
    "vqe_energies = results[\"callback_energies\"]"
   ]
  },
  {
   "cell_type": "code",
   "execution_count": 56,
   "metadata": {},
   "outputs": [
    {
     "data": {
      "text/plain": [
       "<matplotlib.legend.Legend at 0x7f603854be20>"
      ]
     },
     "execution_count": 56,
     "metadata": {},
     "output_type": "execute_result"
    },
    {
     "data": {
      "image/png": "[encoded data removed]",
      "text/plain": [
       "<Figure size 640x480 with 1 Axes>"
      ]
     },
     "metadata": {},
     "output_type": "display_data"
    }
   ],
   "source": [
    "plt.xlabel(\"VQE optimization steps\")\n",
    "plt.ylabel(\"Energy [Ha]\")\n",
    "plt.plot(vqe_energies, label=\"VQE\")\n",
    "plt.legend()"
   ]
  },
  {
   "cell_type": "markdown",
   "metadata": {},
   "source": [
    "### Auxiliary field quantum Monte Carlo (AFQMC)"
   ]
  },
  {
   "cell_type": "markdown",
   "metadata": {},
   "source": [
    "AFQMC is a numerical method for computing relevant properties of strongly interacting molecules. AFQMC is a type of quantum Monte Carlo method that combines the use of random walks with an auxiliary field to simulate the imaginary-time evolution of a quantum system and drive it to the lowest energy state. This method can provide accurate results for ground-state properties of a wide range of physical systems, including atoms, molecules, and solids. Here we summarize the main features of AFQMC while a detailed introduction to can be found at this [link](https://www.cond-mat.de/events/correl13/manuscripts/zhang.pdf).  "
   ]
  },
  {
   "cell_type": "markdown",
   "metadata": {},
   "source": [
    "We consider the electronic Hamiltonian in the second quantization\n",
    "\\begin{equation}\n",
    "H = {H}_1 + {H}_2 \n",
    "=\\sum_{pq} h_{pq} {a}_{p}^{\\dagger} {a}_{q} + \\frac{1}{2} \\sum_{pqrs} v_{pqrs}{a}_{p}^{\\dagger} {a}_r {a}^{\\dagger}_{q} {a}_s, \\tag{1}\n",
    "\\end{equation}\n",
    "where ${a}_{p}^{\\dagger}$ and ${a}_{q}$ are fermionic creation and annihilation operators of orbitals $p$ and $q$, respectively. The terms $h_{pq} $ and $v_{pqrs}$ are the matrix elements of the one-body $H_1$ and two-body interactions $H_2$ of $H$, respectively. Here, we omit the spin indices for simplicity. \n",
    "\n",
    "AFQMC realizes an imaginary time propagation of an initial state (chosed as a Slater determinant) $\\ket{\\Psi_{I}}$ towards the ground state $\\ket{\\Psi_0}$ of $H$ with\n",
    "\\begin{equation}\n",
    "\\ket{\\Psi_0} \\sim\\lim_{n \\to \\infty} \\left[ e^{-\\Delta\\tau H  }  \\right]^{n} \\ket{\\Psi_{I}}\n",
    "\\end{equation} \n",
    "where $\\Delta\\tau$ is the imaginary time step.\n",
    "\n",
    "AFQMC relies on decomposing the two-body interactions $H_2$ in terms of sum of squares of one-body operators ${v}_\\gamma$ such that the Hamiltonian ${H}$ becomes\n",
    "\\begin{equation}\n",
    "H = v_0 - \\frac{1}{2}\\sum_{\\gamma=1}^{N_\\gamma} {v}_\\gamma^2\n",
    "\\end{equation}\n",
    "with ${v}_0 = {H}_1 $ and $\n",
    "{v}_\\gamma = i \\sum_{pq} L^{\\gamma}_{pq} {a}_{p}^{\\dagger}{a}_{q}.\n",
    "$\n",
    "The $N_\\gamma$ matrices $L^{\\gamma}_{pq}$ are called Cholesky vectors as they are  obtained via a Cholesky decomposition of the two-body matrix elements $v_{pqrs}$ via $v_{pqrs} = \\sum_{\\gamma=1}^{N_\\gamma} L^{\\gamma}_{pr} L^{\\gamma}_{qs}$.\n",
    "\n",
    "The imaginary time propagation evolves an esemble of walkers $\\{\\phi^{(n)}\\}$ (that are Slater determinants) and allows one to access observables of the system. For example, the local energy\n",
    "\\begin{equation}\n",
    "    \\mathcal{E}_{\\text{loc}}(\\phi^{(n)}) = \\frac{\\bra{\\Psi_\\mathrm{T}}H\\ket{\\phi^{(n)}}}{\\braket{\\Psi_\\mathrm{T}| \\phi^{(n)}}}\n",
    "\\end{equation}\n",
    "defined as the mixed expectation value of the Hamiltonian with the trial wave function $\\ket{\\Psi_\\mathrm{T}}$.\n",
    "\n",
    "\n",
    "The trial wavefunction can be in general a single Slater determinant or a multi-Slater determinant trial states coming e.g. from VQE. This will help in achieving more accurate ground state energy estimates.\n"
   ]
  },
  {
   "cell_type": "markdown",
   "metadata": {},
   "source": [
    "The implementation for AFQMC we use here is the one from [`ipie`](https://github.com/JoonhoLee-Group/ipie) that supports both CPUs and GPUs and requires different steps:\n",
    "1. preparation of the molecular Hamiltonian (1) by performing the Cholesky decomposition\n",
    "2. preparation of the trial state from the VQE wave function\n",
    "3. AFQMC run"
   ]
  },
  {
   "cell_type": "markdown",
   "metadata": {},
   "source": [
    "### Preparation of the molecular Hamiltonian"
   ]
  },
  {
   "cell_type": "code",
   "execution_count": 57,
   "metadata": {},
   "outputs": [],
   "source": [
    "from ipie.config import config\n",
    "config.update_option(\"use_gpu\", False)\n",
    "from ipie.hamiltonians.generic import Generic as HamGeneric\n",
    "from ipie.qmc.afqmc import AFQMC\n",
    "from ipie.systems.generic import Generic\n",
    "from ipie.trial_wavefunction.particle_hole import ParticleHole\n",
    "from ipie.analysis.extraction import extract_observable"
   ]
  },
  {
   "cell_type": "code",
   "execution_count": 58,
   "metadata": {},
   "outputs": [
    {
     "name": "stdout",
     "output_type": "stream",
     "text": [
      "# Number of electrons in simulation: (12, 12)\n"
     ]
    }
   ],
   "source": [
    "#AFQMC\n",
    "\n",
    "# Generate the input Hamiltonian for ipie from the chk file from pyscf\n",
    "ipie_ham  = gen_ipie_input_from_pyscf_chk(\"scf.chk\",\n",
    "                                          mcscf=True,\n",
    "                                          chol_cut=1e-5)\n",
    "\n",
    "h1e, cholesky_vectors, e0  = ipie_ham \n",
    "\n",
    "num_basis = cholesky_vectors.shape[1]\n",
    "num_chol = cholesky_vectors.shape[0]\n",
    "\n",
    "system = Generic(nelec=mol_nelec)\n",
    "\n",
    "ham = HamGeneric(\n",
    "    np.array([h1e, h1e]),\n",
    "    cholesky_vectors.transpose((1, 2, 0)).reshape((num_basis * num_basis, num_chol)),\n",
    "    e0,\n",
    ")"
   ]
  },
  {
   "cell_type": "markdown",
   "metadata": {},
   "source": [
    "### Preparation of the trial wave function"
   ]
  },
  {
   "cell_type": "code",
   "execution_count": 59,
   "metadata": {},
   "outputs": [],
   "source": [
    "# Build the trial wavefunction from the state vector computed via VQE\n",
    "wavefunction = get_coeff_wf(final_state_vector,\n",
    "                            n_active_elec=num_active_electrons,\n",
    "                            spin=spin\n",
    "                           )\n",
    "\n",
    "trial = ParticleHole(\n",
    "    wavefunction,\n",
    "    mol_nelec,\n",
    "    num_basis,\n",
    "    num_dets_for_props=len(wavefunction[0]),\n",
    "    verbose=False)  #set to true if needed\n",
    "\n",
    "trial.compute_trial_energy = True\n",
    "trial.build()\n",
    "trial.half_rotate(ham)\n",
    "####################"
   ]
  },
  {
   "cell_type": "markdown",
   "metadata": {},
   "source": [
    "### Set-up of the AFQMC parameters"
   ]
  },
  {
   "cell_type": "markdown",
   "metadata": {},
   "source": [
    "Here we can choose the input options like the timestep $\\Delta\\tau$, the total number of walkers `num_walkers` and the total number of AFQMC iterations `num_blocks`."
   ]
  },
  {
   "cell_type": "code",
   "execution_count": 60,
   "metadata": {},
   "outputs": [
    {
     "name": "stdout",
     "output_type": "stream",
     "text": [
      "# random seed is 96264512\n"
     ]
    }
   ],
   "source": [
    "# Set the AFQMC parameters (num_walkers, num_blocks,...) here \n",
    "afqmc_msd = AFQMC.build(\n",
    "    mol_nelec,\n",
    "    ham,\n",
    "    trial,\n",
    "    num_walkers=100,\n",
    "    num_steps_per_block=25,\n",
    "    num_blocks=10,\n",
    "    timestep=0.005,\n",
    "    stabilize_freq=5,\n",
    "    seed=96264512,\n",
    "    pop_control_freq=5,\n",
    "    verbose=False,\n",
    ")"
   ]
  },
  {
   "cell_type": "code",
   "execution_count": 61,
   "metadata": {},
   "outputs": [
    {
     "name": "stdout",
     "output_type": "stream",
     "text": [
      "            Block                   Weight            WeightFactor            HybridEnergy                  ENumer                  EDenom                  ETotal                  E1Body                  E2Body\n",
      "                0   1.0000000000000000e+02  1.0000000000000000e+02  0.0000000000000000e+00 -2.2439416883037411e+04  1.0000000000000000e+02 -2.2439416883037413e+02 -3.7639365201745517e+02  1.5199948318708113e+02\n",
      "                1   4.2258273768161757e+02  1.4118653472267843e+03 -1.1708876340868197e+02 -2.2474921561413157e+04  1.0000000000000001e+02 -2.2474921561413154e+02 -3.7647295761526891e+02  1.5172374200113737e+02\n",
      "                2   1.0031503625237428e+02  3.8297710748551305e+02 -1.1739917192759658e+02 -2.2490537203825694e+04  1.0000000000000000e+02 -2.2490537203825693e+02 -3.7651469905957731e+02  1.5160932702132038e+02\n",
      "                3   9.9899190068440575e+01  1.0007736593569858e+02 -1.1733623599094014e+02 -2.2497025249179875e+04  1.0000000000000001e+02 -2.2497025249179870e+02 -3.7660505877900204e+02  1.5163480628720342e+02\n",
      "                4   1.0009066622235532e+02  1.0004737319452819e+02 -1.1745676943076462e+02 -2.2496791176329090e+04  1.0000000000000003e+02 -2.2496791176329083e+02 -3.7676966103318807e+02  1.5180174926989727e+02\n",
      "                5   9.9997243943679237e+01  1.0010513292784758e+02 -1.1749478927678780e+02 -2.2503894392687023e+04  9.9999999999999957e+01 -2.2503894392687030e+02 -3.7664505487570676e+02  1.5160611094883640e+02\n",
      "                6   1.0011611401227893e+02  1.0018112987281000e+02 -1.1766560648211625e+02 -2.2514130181525012e+04  9.9999999999999986e+01 -2.2514130181525016e+02 -3.7662464220560048e+02  1.5148334039035035e+02\n",
      "                7   9.9932068886486647e+01  9.9917387400111551e+01 -1.1761294079162113e+02 -2.2516956437851753e+04  1.0000000000000000e+02 -2.2516956437851755e+02 -3.7661703881229204e+02  1.5144747443377452e+02\n",
      "                8   9.9903517726370453e+01  9.9912384493319209e+01 -1.1757671542258460e+02 -2.2518385700962830e+04  1.0000000000000001e+02 -2.2518385700962827e+02 -3.7676430061013707e+02  1.5158044360050877e+02\n",
      "                9   1.0012023083745675e+02  1.0012111757025593e+02 -1.1776307944048956e+02 -2.2513287190446059e+04  1.0000000000000000e+02 -2.2513287190446059e+02 -3.7678682154154433e+02  1.5165394963708380e+02\n",
      "               10   9.9637260807863754e+01  9.9239829281241327e+01 -1.1746131935135779e+02 -2.2518465993616770e+04  1.0000000000000000e+02 -2.2518465993616769e+02 -3.7689228812985255e+02  1.5170762819368485e+02\n"
     ]
    }
   ],
   "source": [
    "# Run the AFQMC\n",
    "afqmc_msd.run()\n",
    "afqmc_msd.finalise(verbose=False)"
   ]
  },
  {
   "cell_type": "markdown",
   "metadata": {},
   "source": [
    "We can extract and plot the energy estimated "
   ]
  },
  {
   "cell_type": "code",
   "execution_count": 62,
   "metadata": {},
   "outputs": [
    {
     "data": {
      "text/plain": [
       "<matplotlib.legend.Legend at 0x7f6258246950>"
      ]
     },
     "execution_count": 62,
     "metadata": {},
     "output_type": "execute_result"
    },
    {
     "data": {
      "image/png": "[encoded data removed]",
      "text/plain": [
       "<Figure size 640x480 with 1 Axes>"
      ]
     },
     "metadata": {},
     "output_type": "display_data"
    }
   ],
   "source": [
    "qmc_data = extract_observable(afqmc_msd.estimators.filename, \"energy\")\n",
    "plt.xlabel(\"AFQMC steps\")\n",
    "plt.ylabel(\"Energy [Ha]\")\n",
    "plt.plot(qmc_data[\"ETotal\"], label=\"AFQMC\")\n",
    "plt.legend()"
   ]
  },
  {
   "cell_type": "code",
   "execution_count": 63,
   "metadata": {},
   "outputs": [
    {
     "data": {
      "text/plain": [
       "<matplotlib.legend.Legend at 0x7f60385132b0>"
      ]
     },
     "execution_count": 63,
     "metadata": {},
     "output_type": "execute_result"
    },
    {
     "data": {
      "image/png": "[encoded data removed]",
      "text/plain": [
       "<Figure size 640x480 with 1 Axes>"
      ]
     },
     "metadata": {},
     "output_type": "display_data"
    }
   ],
   "source": [
    "x = vqe_energies + list(qmc_data[\"ETotal\"])\n",
    "y = list(range(len(x)))\n",
    "\n",
    "plt.xlabel(\"Optimization steps\")\n",
    "plt.ylabel(\"Energy [Ha]\")\n",
    "plt.plot(y, x, label=\"VQE + AFQMC\")\n",
    "plt.legend()"
   ]
  },
  {
   "cell_type": "code",
   "execution_count": null,
   "metadata": {},
   "outputs": [],
   "source": []
  }
 ],
 "metadata": {
  "kernelspec": {
   "display_name": "Python 3 (ipykernel)",
   "language": "python",
   "name": "python3"
  },
  "language_info": {
   "codemirror_mode": {
    "name": "ipython",
    "version": 3
   },
   "file_extension": ".py",
   "mimetype": "text/x-python",
   "name": "python",
   "nbconvert_exporter": "python",
   "pygments_lexer": "ipython3",
   "version": "3.10.12"
  },
  "vscode": {
   "interpreter": {
    "hash": "31f2aee4e71d21fbe5cf8b01ff0e069b9275f58929596ceb00d14d90e3e16cd6"
   }
  }
 },
 "nbformat": 4,
 "nbformat_minor": 4
}
